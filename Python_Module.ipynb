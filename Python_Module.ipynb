{
  "nbformat": 4,
  "nbformat_minor": 0,
  "metadata": {
    "colab": {
      "provenance": [],
      "authorship_tag": "ABX9TyNkXk2sb6FuhXoYE9S1I0jB",
      "include_colab_link": true
    },
    "kernelspec": {
      "name": "python3",
      "display_name": "Python 3"
    },
    "language_info": {
      "name": "python"
    }
  },
  "cells": [
    {
      "cell_type": "markdown",
      "metadata": {
        "id": "view-in-github",
        "colab_type": "text"
      },
      "source": [
        "<a href=\"https://colab.research.google.com/github/wearlianbaguio/CPEN65-1/blob/main/Python_Module.ipynb\" target=\"_parent\"><img src=\"https://colab.research.google.com/assets/colab-badge.svg\" alt=\"Open In Colab\"/></a>"
      ]
    },
    {
      "cell_type": "markdown",
      "source": [
        "Array Module in Python"
      ],
      "metadata": {
        "id": "6eUT5x1GJ79m"
      }
    },
    {
      "cell_type": "code",
      "source": [
        "#getting typecodes\n",
        "import array\n",
        "array.typecodes \n",
        "a = array.array('i', [1,2,3,4,5])\n",
        "a.typecode\n",
        "b = array.array('f', [1.5,2.5,3.5,4.5,5.5])\n",
        "b.typecode\n"
      ],
      "metadata": {
        "colab": {
          "base_uri": "https://localhost:8080/",
          "height": 35
        },
        "id": "2bna_dH2Kspr",
        "outputId": "191b9a6f-5585-498f-e1ad-759ed253e145"
      },
      "execution_count": null,
      "outputs": [
        {
          "output_type": "execute_result",
          "data": {
            "text/plain": [
              "'f'"
            ],
            "application/vnd.google.colaboratory.intrinsic+json": {
              "type": "string"
            }
          },
          "metadata": {},
          "execution_count": 2
        }
      ]
    },
    {
      "cell_type": "code",
      "source": [
        "import array\n",
        "array.typecodes \n",
        "a = array.array('i', [1,2,3,4,5])\n",
        "print(a.typecode)\n",
        "b = array.array('f', [1.5,2.5,3.5,4.5,5.5])\n",
        "print(b.typecode)"
      ],
      "metadata": {
        "colab": {
          "base_uri": "https://localhost:8080/"
        },
        "id": "K0prf-Y6Lh5r",
        "outputId": "68301f4f-35cc-45c3-b38f-21d69061c263"
      },
      "execution_count": null,
      "outputs": [
        {
          "output_type": "stream",
          "name": "stdout",
          "text": [
            "i\n",
            "f\n"
          ]
        }
      ]
    },
    {
      "cell_type": "code",
      "source": [
        "import array as arr\n",
        "arr.typecodes \n",
        "a = arr.array('i', [1,2,3,4,5])\n",
        "print(a.typecode)\n",
        "b = arr.array('f', [1.5,2.5,3.5,4.5,5.5])\n",
        "print(b.typecode)"
      ],
      "metadata": {
        "colab": {
          "base_uri": "https://localhost:8080/"
        },
        "id": "PT1kJ2EJNDpN",
        "outputId": "a651c6dc-a722-4d3c-f3d2-1acb3b0cab0f"
      },
      "execution_count": null,
      "outputs": [
        {
          "output_type": "stream",
          "name": "stdout",
          "text": [
            "i\n",
            "f\n"
          ]
        }
      ]
    },
    {
      "cell_type": "code",
      "source": [
        "#What are the output of these codes?\n",
        "\n",
        "a = arr.array('i', [4,5,6,7])\n",
        "print(a)\n",
        "\n",
        "c = a.insert(1,2)\n",
        "print(a)\n",
        "a.insert(-1,0)\n",
        "print(a)\n",
        "a.insert(6,8)\n",
        "print(a)\n",
        "a.insert(10,-1)\n",
        "print(a)"
      ],
      "metadata": {
        "colab": {
          "base_uri": "https://localhost:8080/"
        },
        "id": "VgKaBXYuMwPz",
        "outputId": "bd4a575c-3044-4e41-a619-606f70985b77"
      },
      "execution_count": null,
      "outputs": [
        {
          "output_type": "stream",
          "name": "stdout",
          "text": [
            "array('i', [4, 5, 6, 7])\n",
            "array('i', [4, 2, 5, 6, 7])\n",
            "array('i', [4, 2, 5, 6, 0, 7])\n",
            "array('i', [4, 2, 5, 6, 0, 7, 8])\n",
            "array('i', [4, 2, 5, 6, 0, 7, 8, -1])\n"
          ]
        }
      ]
    },
    {
      "cell_type": "markdown",
      "source": [
        "Linked List"
      ],
      "metadata": {
        "id": "B__d02FscAjX"
      }
    },
    {
      "cell_type": "code",
      "source": [
        "#Python program to create a singly-linked of vowel in English\n",
        "\n",
        "#Node Class\n",
        "class Node:\n",
        "  #function to initialize the node object \n",
        "  def __init__(self,data):\n",
        "    self.data = data #assign data \n",
        "    self.next = None #nitialize as null/empty\n",
        "\n",
        "#linked List that contains node object \n",
        "class LinkedList:\n",
        "  def __init__(self):\n",
        "    self.head = None \n",
        "\n",
        "  def printlist(self):\n",
        "    temp = self.head\n",
        "    while(temp):\n",
        "      print(temp.data)\n",
        "      temp=temp.next\n",
        "\n",
        "#code exdecution starting from empty list\n",
        "llist = LinkedList()\n",
        "llist.head = Node(\"a\")\n",
        "second = Node(\"e\")\n",
        "third = Node(\"i\")\n",
        "fourth = Node(\"o\")\n",
        "fifth = Node(\"u\")\n",
        "\n",
        "llist.head.next = second\n",
        "second.next = third\n",
        "third.next = fourth\n",
        "fourth.next = fifth\n",
        "\n",
        "llist.printlist()"
      ],
      "metadata": {
        "id": "5J61sLk-cCeM",
        "colab": {
          "base_uri": "https://localhost:8080/"
        },
        "outputId": "ea1b4cc1-4e3b-4fd4-b496-7da312563206"
      },
      "execution_count": 15,
      "outputs": [
        {
          "output_type": "stream",
          "name": "stdout",
          "text": [
            "a\n",
            "e\n",
            "i\n",
            "o\n",
            "u\n"
          ]
        }
      ]
    }
  ]
}