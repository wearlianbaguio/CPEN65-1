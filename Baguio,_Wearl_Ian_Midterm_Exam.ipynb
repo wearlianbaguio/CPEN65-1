{
  "nbformat": 4,
  "nbformat_minor": 0,
  "metadata": {
    "colab": {
      "provenance": [],
      "authorship_tag": "ABX9TyNtXt3jZ0FoLpPxu5bvZ/FA",
      "include_colab_link": true
    },
    "kernelspec": {
      "name": "python3",
      "display_name": "Python 3"
    },
    "language_info": {
      "name": "python"
    }
  },
  "cells": [
    {
      "cell_type": "markdown",
      "metadata": {
        "id": "view-in-github",
        "colab_type": "text"
      },
      "source": [
        "<a href=\"https://colab.research.google.com/github/wearlianbaguio/CPEN65-1/blob/main/Baguio%2C_Wearl_Ian_Midterm_Exam.ipynb\" target=\"_parent\"><img src=\"https://colab.research.google.com/assets/colab-badge.svg\" alt=\"Open In Colab\"/></a>"
      ]
    },
    {
      "cell_type": "markdown",
      "source": [
        "1. Write a Python program to create an array of 10 integers and display the array items. Access individual elements through indexes and compute for the sum."
      ],
      "metadata": {
        "id": "GvFEe94oM4d7"
      }
    },
    {
      "cell_type": "code",
      "source": [
        "import array\n",
        "a = array.array('i', [11,12,13,14,15,16,17,18,19,20])\n",
        "for i in a:\n",
        "  print(i)\n",
        "print(\"Access individual elements through indexes⤵, total of 10\")\n",
        "print(a[0])\n",
        "print(a[1])\n",
        "print(a[2])\n",
        "print(a[3])\n",
        "print(a[4])\n",
        "print(a[5])\n",
        "print(a[6])\n",
        "print(a[7])\n",
        "print(a[8])\n",
        "print(a[9])\n",
        "\n",
        "print(\"Compute for the sum⤵\")\n",
        "sum_array = sum(a)\n",
        "print(sum_array)"
      ],
      "metadata": {
        "colab": {
          "base_uri": "https://localhost:8080/"
        },
        "id": "Ms7syhgkNCik",
        "outputId": "5e836570-9ae9-4174-ae44-a1be9c4261c9"
      },
      "execution_count": 12,
      "outputs": [
        {
          "output_type": "stream",
          "name": "stdout",
          "text": [
            "11\n",
            "12\n",
            "13\n",
            "14\n",
            "15\n",
            "16\n",
            "17\n",
            "18\n",
            "19\n",
            "20\n",
            "Access individual elements through indexes⤵, total of 10\n",
            "11\n",
            "12\n",
            "13\n",
            "14\n",
            "15\n",
            "16\n",
            "17\n",
            "18\n",
            "19\n",
            "20\n",
            "Compute for the sum⤵\n",
            "155\n"
          ]
        }
      ]
    },
    {
      "cell_type": "markdown",
      "source": [
        "2. Write a Python program to append a new item to the end of the array. Original array: numbers = [1,2,3,4,5,6,7,8,9,10]"
      ],
      "metadata": {
        "id": "OHyZhRAiVhka"
      }
    },
    {
      "cell_type": "code",
      "source": [
        "import array as arr\n",
        "a = arr.array('i', [1,2,3,4,5,6,7,8,9,10])\n",
        "print(\"Before appending:\")\n",
        "print(a)\n",
        "\n",
        "b = a.insert(10,11)\n",
        "print(\"After appending:\")\n",
        "print(a)"
      ],
      "metadata": {
        "colab": {
          "base_uri": "https://localhost:8080/"
        },
        "id": "7dA8SoscVvHz",
        "outputId": "5116e9f0-6c42-4a3d-f4b8-8421d13d7de1"
      },
      "execution_count": 77,
      "outputs": [
        {
          "output_type": "stream",
          "name": "stdout",
          "text": [
            "Before appending:\n",
            "array('i', [1, 2, 3, 4, 5, 6, 7, 8, 9, 10])\n",
            "After appending:\n",
            "array('i', [1, 2, 3, 4, 5, 6, 7, 8, 9, 10, 11])\n"
          ]
        }
      ]
    },
    {
      "cell_type": "markdown",
      "source": [
        "3. Write a Python program to insert a new item before the last element in an existing array. Original array: numbers =  [1,2,3,4,5,6,7,8,9,10]"
      ],
      "metadata": {
        "id": "B73WBfexYKRb"
      }
    },
    {
      "cell_type": "code",
      "source": [
        "import array as arr\n",
        "a = arr.array('i', [1,2,3,4,5,6,7,8,9,10])\n",
        "print(\"before appending:\")\n",
        "print(a)\n",
        "\n",
        "b = a.insert(-1,11)\n",
        "print(\"the result:\")\n",
        "print(a)"
      ],
      "metadata": {
        "colab": {
          "base_uri": "https://localhost:8080/"
        },
        "id": "6V2E42k6YVSr",
        "outputId": "2ea06bbb-bd9e-4917-87ad-b025c42b089e"
      },
      "execution_count": 78,
      "outputs": [
        {
          "output_type": "stream",
          "name": "stdout",
          "text": [
            "before appending:\n",
            "array('i', [1, 2, 3, 4, 5, 6, 7, 8, 9, 10])\n",
            "the result:\n",
            "array('i', [1, 2, 3, 4, 5, 6, 7, 8, 9, 11, 10])\n"
          ]
        }
      ]
    },
    {
      "cell_type": "markdown",
      "source": [
        "4. Write a Python program to reverse the order of the items in the array. Original aray: numbers = [1,2,3,4,5]"
      ],
      "metadata": {
        "id": "G06K2sN0YKQK"
      }
    },
    {
      "cell_type": "code",
      "source": [
        "import array\n",
        "a = array.array('i', [1,2,3,4,5])\n",
        "print(\"Before reversing:\")\n",
        "print(a)\n",
        "\n",
        "a.reverse()\n",
        "print(\"After reversing:\")\n",
        "print(a)"
      ],
      "metadata": {
        "colab": {
          "base_uri": "https://localhost:8080/"
        },
        "id": "VISxStRNY32a",
        "outputId": "ef491056-06e0-43b8-edee-8747640de949"
      },
      "execution_count": 79,
      "outputs": [
        {
          "output_type": "stream",
          "name": "stdout",
          "text": [
            "Before reversing:\n",
            "array('i', [1, 2, 3, 4, 5])\n",
            "After reversing:\n",
            "array('i', [5, 4, 3, 2, 1])\n"
          ]
        }
      ]
    },
    {
      "cell_type": "markdown",
      "source": [
        "5. Let A be an array of size n ≥ 2 containing integers from 1 to n-1, inclusive, with the exactly one repeated. Create an algorithm for finding the integer in A that is repeated."
      ],
      "metadata": {
        "id": "lOt_SFN4ayiC"
      }
    },
    {
      "cell_type": "code",
      "source": [
        "#Using Linked-list\n",
        "class Midterm :\n",
        "  #declaring two integer points\n",
        "\tdef findDuplicate( nums) :\n",
        "\t\tslow = nums[0]\n",
        "\t\tfast = nums[0]\n",
        "    #The process of the porgram in which the slow and fast entry point is the duplicate number in which they also meet, \n",
        "    #the slow moves 1 step at time and the fast moves 2 step at a time\n",
        "\t\twhile True :\n",
        "\t\t\tslow = nums[slow]\n",
        "\t\t\tfast = nums[nums[fast]]\n",
        "\t\t\tif((slow != fast) == False) :\n",
        "\t\t\t\t\tbreak\n",
        "\t\tfast = nums[0]\n",
        "\t\twhile (slow != fast) :\n",
        "\t\t\tslow = nums[slow]\n",
        "\t\t\tfast = nums[fast]\n",
        "\t\treturn slow\n",
        "  #the list of elements in the array\n",
        "\tdef main( args) :\n",
        "\t\tarr = [7, 5, 9, 2, 8, 4, 3, 5, 1, 6]\n",
        "\t\t\n",
        "\t\t# Function call\n",
        "\t\tans = Midterm.findDuplicate(arr)\n",
        "\t\tprint(ans)\n",
        "#to have an output\t\n",
        "if __name__==\"__main__\":\n",
        "\tMidterm.main([])\n"
      ],
      "metadata": {
        "colab": {
          "base_uri": "https://localhost:8080/"
        },
        "id": "6bb2t3J4q6AS",
        "outputId": "f05e638c-c4cc-4cf8-803a-e3b3b2bc7853"
      },
      "execution_count": 75,
      "outputs": [
        {
          "output_type": "stream",
          "name": "stdout",
          "text": [
            "5\n"
          ]
        }
      ]
    }
  ]
}