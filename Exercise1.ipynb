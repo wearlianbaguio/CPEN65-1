{
  "nbformat": 4,
  "nbformat_minor": 0,
  "metadata": {
    "colab": {
      "provenance": [],
      "authorship_tag": "ABX9TyMh6G1NRG51BoPZ1raiZKIq",
      "include_colab_link": true
    },
    "kernelspec": {
      "name": "python3",
      "display_name": "Python 3"
    },
    "language_info": {
      "name": "python"
    }
  },
  "cells": [
    {
      "cell_type": "markdown",
      "metadata": {
        "id": "view-in-github",
        "colab_type": "text"
      },
      "source": [
        "<a href=\"https://colab.research.google.com/github/wearlianbaguio/CPEN65-1/blob/main/Exercise1.ipynb\" target=\"_parent\"><img src=\"https://colab.research.google.com/assets/colab-badge.svg\" alt=\"Open In Colab\"/></a>"
      ]
    },
    {
      "cell_type": "markdown",
      "source": [
        "##Exercise\n",
        "###Create a python program that inserts each character of your full name and displays each character of your full name in reverse order "
      ],
      "metadata": {
        "id": "UmsnKgKIxesa"
      }
    },
    {
      "cell_type": "code",
      "execution_count": 8,
      "metadata": {
        "id": "zmtiIn_GxZCe",
        "colab": {
          "base_uri": "https://localhost:8080/"
        },
        "outputId": "469cb95e-7bde-4f4e-d3db-090182fa5412"
      },
      "outputs": [
        {
          "output_type": "stream",
          "name": "stdout",
          "text": [
            "enter a name: Wearl Ian Baguio\n",
            "entered name Wearl Ian Baguio\n",
            "reversed name is: oiugaB naI lraeW\n"
          ]
        }
      ],
      "source": [
        "#Method 1\n",
        "def reverse(string):\n",
        "  reversed_string = \"\"\n",
        "  for i in string:\n",
        "    reversed_string = i+reversed_string\n",
        "  print(\"reversed name is:\",reversed_string)\n",
        "\n",
        "string = input(\"enter a name: \")\n",
        "print(\"entered name\", string)\n",
        "reverse(string)"
      ]
    },
    {
      "cell_type": "code",
      "source": [
        "#Method 2\n",
        "inputStr = \"Wearl Ian Baguio\"\n",
        "print(inputStr)\n",
        "result = \"\"\n",
        "for i in range(len(inputStr)-1, -1, -1):\n",
        "  result = result + inputStr[i]\n",
        "\n",
        "print(result)"
      ],
      "metadata": {
        "colab": {
          "base_uri": "https://localhost:8080/"
        },
        "id": "oAkt3uk2GdaN",
        "outputId": "7a09ebb7-d3ee-4472-b678-2c939d8bb75f"
      },
      "execution_count": 10,
      "outputs": [
        {
          "output_type": "stream",
          "name": "stdout",
          "text": [
            "Wearl Ian Baguio\n",
            "oiugaB naI lraeW\n"
          ]
        }
      ]
    }
  ]
}