{
  "nbformat": 4,
  "nbformat_minor": 0,
  "metadata": {
    "colab": {
      "provenance": [],
      "authorship_tag": "ABX9TyPg5PPc7/ANcu/YMIjqdaWF",
      "include_colab_link": true
    },
    "kernelspec": {
      "name": "python3",
      "display_name": "Python 3"
    },
    "language_info": {
      "name": "python"
    }
  },
  "cells": [
    {
      "cell_type": "markdown",
      "metadata": {
        "id": "view-in-github",
        "colab_type": "text"
      },
      "source": [
        "<a href=\"https://colab.research.google.com/github/wearlianbaguio/CPEN65-1/blob/main/Baguio%2C_Wearl_Ian_Prelim.ipynb\" target=\"_parent\"><img src=\"https://colab.research.google.com/assets/colab-badge.svg\" alt=\"Open In Colab\"/></a>"
      ]
    },
    {
      "cell_type": "markdown",
      "source": [
        "###Program 1"
      ],
      "metadata": {
        "id": "N9sG_6nW8MOO"
      }
    },
    {
      "cell_type": "code",
      "execution_count": 1,
      "metadata": {
        "colab": {
          "base_uri": "https://localhost:8080/"
        },
        "id": "Ryjp9UkQ6rq0",
        "outputId": "3b6bf33a-b503-4f70-a517-3505c287e11c"
      },
      "outputs": [
        {
          "output_type": "stream",
          "name": "stdout",
          "text": [
            "21\n"
          ]
        }
      ],
      "source": [
        "class Rectangle:\n",
        "  def __init__(self, length, width):\n",
        "    self.length = length\n",
        "    self.width = width\n",
        "\n",
        "  def Area(self):\n",
        "    print(self.length * self.width)\n",
        "\n",
        "rect = Rectangle(7, 3)\n",
        "rect.Area()"
      ]
    },
    {
      "cell_type": "markdown",
      "source": [
        "###Program 2"
      ],
      "metadata": {
        "id": "AIT-79be8UvD"
      }
    },
    {
      "cell_type": "code",
      "source": [
        "class Person:\n",
        "  def __init__(self, name,age):\n",
        "    self.name = name\n",
        "    self.age = age\n",
        "\n",
        "person = Person(\"Ana\", 39)\n",
        "print(person.name)\n",
        "print(person.age)"
      ],
      "metadata": {
        "colab": {
          "base_uri": "https://localhost:8080/"
        },
        "id": "hyZ2Jzor8WoU",
        "outputId": "2e59abc2-b11f-471a-c0fa-57316dfba933"
      },
      "execution_count": 2,
      "outputs": [
        {
          "output_type": "stream",
          "name": "stdout",
          "text": [
            "Ana\n",
            "39\n"
          ]
        }
      ]
    }
  ]
}